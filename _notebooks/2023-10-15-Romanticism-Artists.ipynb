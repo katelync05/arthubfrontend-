{
 "cells": [
  {
   "cell_type": "markdown",
   "metadata": {},
   "source": [
    "# Francisco Goya\n",
    "\n",
    "### Brief Bio\n",
    "- Francisco Goya was born in Fuendetodos, Spain, and he began his artistic career as an apprentice to a local painter. He later moved to Madrid to study at the Royal Academy of Fine Arts, where he honed his skills as a painter and engraver.\n",
    "- Goya rose to prominence as a court painter, creating portraits of Spanish royalty, nobility, and other notable figures. His talent and versatility earned him the position of court painter to Charles III and, later, Charles IV.\n",
    "- In his later years, Goya's health deteriorated, and he became deaf, which had a significant impact on his work. He withdrew from court life and became more critical of the Spanish monarchy, producing works with satirical and critical themes.\n",
    "\n",
    "### Notable Works\n",
    "- The Third of May 1808\n",
    "- Saturn Devouring His Son\n",
    "- The Disasters of War\n",
    "- The Naked Maja\n",
    "\n",
    "### The Black Paintings\n",
    "- Francisco Goya's \"Dark Paintings\" (Spanish: \"Pinturas Negras\") is a series of 14 murals that he created on the walls of his house, known as the Quinta del Sordo, between 1819 and 1823. These paintings are notable for their dark and disturbing themes, and they are considered some of the most enigmatic and psychologically intense works in Goya's oeuvre. These paintings were created during the end of Goya's life at a time where hwas losing both his vision and hearing."
   ]
  },
  {
   "cell_type": "code",
   "execution_count": null,
   "metadata": {
    "vscode": {
     "languageId": "plaintext"
    }
   },
   "outputs": [],
   "source": []
  }
 ],
 "metadata": {
  "language_info": {
   "name": "python"
  }
 },
 "nbformat": 4,
 "nbformat_minor": 2
}
