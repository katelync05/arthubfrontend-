{
 "cells": [
  {
   "cell_type": "markdown",
   "metadata": {},
   "source": [
    "# Van Gogh\n",
    "\n",
    "- Early Life: Van Gogh came from a family with a history of art dealing, but he initially pursued various careers, including working as an art dealer, a teacher, and a preacher. His early life was marked by periods of uncertainty and changes in profession.\n",
    "- Artistic Development: In his late twenties, he decided to become an artist. Van Gogh's artistic style evolved over time, influenced by the works of other artists and his experiences living in various locations, including the Netherlands, Paris, and southern France. He is best known for his use of bold colors, swirling brushwork, and emotional intensity in his paintings.\n",
    "\n",
    "### Notable Works\n",
    "- Starry Night\n",
    "- Sunflowers\n",
    "- The Bedroom\n",
    "- Café Terrace at Night\n",
    "\n",
    "### Mental Health Issues\n",
    "- Throughout his life, van Gogh struggled with mental health issues, including depression and psychosis. He famously cut off his own ear during a breakdown in 1888, and he spent time in psychiatric institutions."
   ]
  },
  {
   "cell_type": "markdown",
   "metadata": {},
   "source": [
    "# Paul Gauguin\n",
    "\n",
    "- Gauguin was born on June 7, 1848, in Paris, France. He spent his early years in Peru, where his family had moved for financial reasons. After returning to France, he worked as a stockbroker and began to dabble in painting as a hobby.\n",
    "- Gauguin's passion for art eventually led him to abandon his career as a stockbroker. He studied painting and became associated with the Impressionist movement, exhibiting his work with them. However, he later distanced himself from Impressionism and developed his own distinctive Post-Impressionist style.\n",
    "- Paul Gauguin faced several significant health issues throughout his life, which had a notable impact on his career and personal life. Some of the key health issues he experienced include: asthma, alcoholism, substance abuse, and injuries. \n",
    "- His quest for a more \"primitive\" and unspoiled environment was partly motivated by his desire to escape the constraints of urban life and find relief from his physical and emotional challenges.\n",
    "\n",
    "### Notable Works\n",
    "- Where Do We Come From? What Are We? Where Are We Going?\n",
    "- The Yellow Christ\n",
    "- Tahitian Women on the Beach\n",
    "\n",
    "### Tahitian Period\n",
    "- One of the most significant phases of Gauguin's career was his time in Tahiti, where he sought a more primitive and unspoiled environment. He lived there on and off between 1891 and 1903 and produced a body of work that featured vivid colors, simplified forms, and themes of myth, spirituality, and sensuality."
   ]
  },
  {
   "cell_type": "markdown",
   "metadata": {},
   "source": [
    "# Henri Rousseau \n",
    "\n",
    "- Rousseau was born on May 21, 1844, in Laval, France. He held various jobs throughout his early life, including working as a customs officer, which earned him the nickname \"Le Douanier.\" Rousseau had no formal art training and was largely self-taught.\n",
    "- Rousseau's artistic style is characterized by its simplicity and almost childlike quality. He often painted detailed and lush jungle scenes, animals, and fantastical landscapes. His work is known for its vibrant colors, flat perspective, and a sense of mystery and exoticism.\n",
    "- Rousseau's art was initially met with skepticism by the art establishment. However, it piqued the interest of avant-garde artists, including Pablo Picasso and members of the Surrealist movement, who admired his unique vision and appreciated his outsider status.\n",
    "\n",
    "### Notable Works\n",
    "- The Sleeping Gypsy\n",
    "- The Dream\n",
    "- The Hungry Lion Throws Itself on the Antelope\n",
    "- Tiger in a Tropical Storm\n",
    "\n",
    "### Confidence\n",
    "- Despite his seemingly childlike and \"naïve\" style of painting, he was quite confident and even somewhat self-assured about his artistic abilities. Rousseau often referred to himself as a \"Sunday painter,\" implying that he painted purely for pleasure and without the formal training of a professional artist. However, he had a strong belief in his own artistic vision and felt that he was creating something entirely new and unique.\n",
    "\n"
   ]
  }
 ],
 "metadata": {
  "language_info": {
   "name": "python"
  }
 },
 "nbformat": 4,
 "nbformat_minor": 2
}
