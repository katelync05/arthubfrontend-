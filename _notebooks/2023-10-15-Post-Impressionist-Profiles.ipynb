{
 "cells": [
  {
   "cell_type": "markdown",
   "metadata": {},
   "source": [
    "# Van Gogh\n",
    "- Post-Impressionist Period\n",
    "\n",
    "### Brief Bio\n",
    "- Early Life: Van Gogh came from a family with a history of art dealing, but he initially pursued various careers, including working as an art dealer, a teacher, and a preacher. His early life was marked by periods of uncertainty and changes in profession.\n",
    "- Artistic Development: In his late twenties, he decided to become an artist. Van Gogh's artistic style evolved over time, influenced by the works of other artists and his experiences living in various locations, including the Netherlands, Paris, and southern France. He is best known for his use of bold colors, swirling brushwork, and emotional intensity in his paintings.\n",
    "\n",
    "### Notable Works\n",
    "- Starry Night\n",
    "- Sunflowers\n",
    "- The Bedroom\n",
    "- Café Terrace at Night\n",
    "\n",
    "### Mental Health Issues\n",
    "- Throughout his life, van Gogh struggled with mental health issues, including depression and psychosis. He famously cut off his own ear during a breakdown in 1888, and he spent time in psychiatric institutions."
   ]
  },
  {
   "cell_type": "markdown",
   "metadata": {},
   "source": [
    "# Francisco Goya\n",
    "- Romanticism/Rococo\n",
    "\n",
    "### Brief Bio\n",
    "- Francisco Goya was born in Fuendetodos, Spain, and he began his artistic career as an apprentice to a local painter. He later moved to Madrid to study at the Royal Academy of Fine Arts, where he honed his skills as a painter and engraver.\n",
    "- Goya rose to prominence as a court painter, creating portraits of Spanish royalty, nobility, and other notable figures. His talent and versatility earned him the position of court painter to Charles III and, later, Charles IV.\n",
    "- In his later years, Goya's health deteriorated, and he became deaf, which had a significant impact on his work. He withdrew from court life and became more critical of the Spanish monarchy, producing works with satirical and critical themes.\n",
    "\n",
    "### Notable Works\n",
    "- The Third of May 1808\n",
    "- Saturn Devouring His Son\n",
    "- The Disasters of War\n",
    "- The Naked Maja\n",
    "\n",
    "### The Black Paintings\n",
    "- Francisco Goya's \"Dark Paintings\" (Spanish: \"Pinturas Negras\") is a series of 14 murals that he created on the walls of his house, known as the Quinta del Sordo, between 1819 and 1823. These paintings are notable for their dark and disturbing themes, and they are considered some of the most enigmatic and psychologically intense works in Goya's oeuvre. These paintings were created during the end of Goya's life at a time where hwas losing both his vision and hearing."
   ]
  },
  {
   "cell_type": "markdown",
   "metadata": {},
   "source": [
    "### "
   ]
  }
 ],
 "metadata": {
  "language_info": {
   "name": "python"
  }
 },
 "nbformat": 4,
 "nbformat_minor": 2
}
