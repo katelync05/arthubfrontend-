{
 "cells": [
  {
   "cell_type": "markdown",
   "metadata": {},
   "source": [
    "# Van Gogh\n",
    "\n",
    "### Brief Bio\n",
    "- Early Life: Van Gogh came from a family with a history of art dealing, but he initially pursued various careers, including working as an art dealer, a teacher, and a preacher. His early life was marked by periods of uncertainty and changes in profession.\n",
    "- Artistic Development: In his late twenties, he decided to become an artist. Van Gogh's artistic style evolved over time, influenced by the works of other artists and his experiences living in various locations, including the Netherlands, Paris, and southern France. He is best known for his use of bold colors, swirling brushwork, and emotional intensity in his paintings.\n",
    "\n",
    "### Notable Works\n",
    "- Starry Night\n",
    "- Sunflowers\n",
    "- The Bedroom\n",
    "- Café Terrace at Night\n",
    "\n",
    "### Mental Health Issues\n",
    "- Throughout his life, van Gogh struggled with mental health issues, including depression and psychosis. He famously cut off his own ear during a breakdown in 1888, and he spent time in psychiatric institutions."
   ]
  },
  {
   "cell_type": "markdown",
   "metadata": {},
   "source": [
    "### "
   ]
  }
 ],
 "metadata": {
  "language_info": {
   "name": "python"
  }
 },
 "nbformat": 4,
 "nbformat_minor": 2
}
