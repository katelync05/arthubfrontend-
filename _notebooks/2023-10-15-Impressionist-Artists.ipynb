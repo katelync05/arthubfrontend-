{
 "cells": [
  {
   "cell_type": "markdown",
   "metadata": {},
   "source": [
    "# Claude Monet\n",
    "\n",
    "- Monet was born in Paris, France, and showed an early talent for art. He later moved to Le Havre, where he began his formal art training. He moved to Paris in 1859 to study further and was influenced by other prominent artists of the time.\n",
    "- Monet's work is characterized by his fascination with light, color, and the natural world. He painted numerous series of the same subject at different times of day or under various lighting conditions to explore these effects. \n",
    "- Monet's later years were marked by his extensive gardens at Giverny, where he created the famous water lily pond and Japanese bridge. He continued to paint and refine his artistic style, often focusing on the natural world.\n",
    "\n",
    "### Notable Works \n",
    "- Water Lilies and Japanese Bridge\n",
    "- Impression, Sunrise\n",
    "- \"Haystacks\" Series\n",
    "- Woman with a Parasol - Madame Monet and Her Son\n",
    "\n",
    "### Monet's Garden\n",
    "- Monet's love for gardening is evident in his later works, particularly his series of paintings featuring the water lilies and Japanese bridge in his garden at Giverny. He carefully designed and cultivated his garden, which served as both a source of inspiration for his art and a sanctuary for his creative endeavors. Today, Monet's garden at Giverny is open to the public and has been meticulously preserved, allowing visitors to experience the very same scenes that inspired some of his most iconic paintings."
   ]
  },
  {
   "cell_type": "markdown",
   "metadata": {},
   "source": [
    "# Pierre-Auguste Renoir \n",
    "- Renoir was born on February 25, 1841, in Limoges, France. He came from a working-class family and showed an early aptitude for art. He began his career as a porcelain painter, which honed his skills and attention to detail.\n",
    "- In his late teens, Renoir moved to Paris to pursue a career as a professional artist. He enrolled in art schools, including the École des Beaux-Arts, and began to study the works of prominent painters at the Louvre.\n",
    "- He developed a distinctive style characterized by soft, luminous brushwork and a focus on people, particularly women and children, often engaged in leisure activities.\n",
    "- In his later years, Renoir battled rheumatoid arthritis, which severely affected his mobility. Despite his physical limitations, he continued to paint, adapting his techniques to accommodate his condition.\n",
    "\n",
    "### Notable Works\n",
    "- Luncheon of the Boating Party\n",
    "- Dance at Le Moulin de la Galette\n",
    "- Two Sisters (On the Terrace)\n",
    "- Bal du moulin de la Galette\n",
    "\n",
    "### Family Life\n",
    "- Renoir often used his family members as models, and his wife, Aline Charigot, and their children were frequent subjects in his paintings"
   ]
  },
  {
   "cell_type": "markdown",
   "metadata": {},
   "source": [
    "# Édouard Manet\n",
    "- Manet was born on January 23, 1832, in Paris, France, into an affluent family. He displayed an early interest in art and began drawing at a young age. He initially intended to pursue a career in the French Navy but failed the entrance exams, leading him to focus on his passion for art. \n",
    "- Manet studied art at various institutions, including the studio of Thomas Couture, where he learned traditional techniques. However, he was influenced by the avant-garde ideas of the time and began to develop his own style.\n",
    "- While not strictly an Impressionist, Manet is considered a precursor to the movement. His works challenged academic conventions of the time. Notable early works include \"Olympia\" (1863) and \"Luncheon on the Grass\" (1863), which caused controversy for their provocative and unconventional depictions of female nudes.\n",
    "- Édouard Manet passed away on April 30, 1883, in Paris at the age of 51.\n",
    "\n",
    "### Notable Works\n",
    "- A Bar at the Folies-Bergère\n",
    "- The Railway\n",
    "- Dejeuner in the Studio\n",
    "\n",
    "### Social Life\n",
    "- Manet maintained close friendships and artistic connections with key Impressionist painters, such as Claude Monet, Pierre-Auguste Renoir, and Berthe Morisot. He shared ideas, techniques, and exhibitions with these artists, and they influenced each other's work. Manet's willingness to break from traditional academic art conventions encouraged the Impressionists to explore new ways of capturing light, color, and everyday life."
   ]
  }
 ],
 "metadata": {
  "language_info": {
   "name": "python"
  }
 },
 "nbformat": 4,
 "nbformat_minor": 2
}
