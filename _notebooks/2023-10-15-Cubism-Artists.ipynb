{
 "cells": [
  {
   "cell_type": "markdown",
   "metadata": {},
   "source": [
    "# Pablo Picasso \n",
    "\n",
    "- Pablo Picasso showed early artistic talent, and his father, an art professor, provided him with formal training.\n",
    "- In 1904, Picasso moved to Paris, the epicenter of the art world at the time, and began to immerse himself in the avant-garde art scene. He soon befriended other artists, including Georges Braque, and together they developed the Cubist movement.\n",
    "- Between 1907 and 1914, Picasso and Braque developed Cubism, an art movement that shattered traditional notions of perspective and representation. They deconstructed objects and figures into geometric forms, initiating a significant shift in the art world.\n",
    "- Picasso had several significant relationships with women throughout his life, and his various lovers and muses often appeared in his art. One of his most famous muses was Dora Maar, who is the subject of many of his paintings.\n",
    "\n",
    "### Notable Works\n",
    "- Guernica\n",
    "- Les Demoiselles d'Avignon\n",
    "- The Weeping Woman\n",
    "\n",
    "### Blue and Rose Periods\n",
    "- The Blue Period was named for the predominance of blue tones in his work and a focus on themes of poverty and melancholy. The Rose Period followed, marked by warmer colors and subjects like circus performers and acrobats."
   ]
  },
  {
   "cell_type": "markdown",
   "metadata": {},
   "source": [
    "# Georges Braque\n",
    "- Georges Braque was born in Argenteuil, France. He initially trained as a house painter, and later attended art school in Le Havre. He moved to Paris in 1900 to study at the Académie Humbert.\n",
    "- Braque worked closely with Picasso in the development of Cubism. Their collaboration in the early 20th century led to the creation of the Cubist style. Braque is known for his contributions to analytical and synthetic Cubism, often featuring still-life subjects and musical instruments in his works.\n",
    "- While closely associated with Cubism, Braque's style evolved over time. His early works often featured muted and earthy tones, but as he transitioned into Synthetic Cubism, his palette became brighter, and he incorporated more colorful and decorative elements into his art.\n",
    "\n",
    "### Notable Works\n",
    "- Man with a Guitar\n",
    "- Violin and Candlestick\n",
    "- Houses at L’Estaque\n",
    "- Bottle and Fishes\n",
    "\n",
    "### Innovative Techniques\n",
    "- Braque's contributions to Cubism included innovative techniques such as the use of collage, where he incorporated real objects like newspaper clippings into his paintings. He also introduced the concept of \"papiers collés\" (pasted papers), which was an essential aspect of Synthetic Cubism."
   ]
  },
  {
   "cell_type": "markdown",
   "metadata": {},
   "source": [
    "# Juan Gris \n",
    "\n",
    "- Juan Gris was born as José Victoriano González-Pérez in Madrid, Spain. He initially studied engineering in Madrid but later moved to Paris in 1906 to pursue a career as an artist.\n",
    "- He became a pioneer of Synthetic Cubism, a phase in which artists incorporated real objects and materials, such as paper and newsprint, into their works. Gris was known for his orderly and highly structured compositions, which often featured still-life subjects.\n",
    "- Unfortunately, Gris's career was cut short by his premature death from illness at the age of 40, but his work continues to be admired and studied for its unique contributions to Cubism and his innovative approach to the representation of everyday objects\n",
    "\n",
    "### Notable Works\n",
    "- Still Life with Checked Tablecloth\n",
    "- The Breakfast\n",
    "- Violin and Playing Cards\n",
    "- Bottle and Glass\n",
    "\n",
    "### Innovative Techniques \n",
    "- Gris's work was characterized by his meticulous attention to detail and a distinctive use of color. He often employed a range of materials, including newspapers, sheet music, and playing cards, in his collages and paintings. His pieces incorporated objects, textures, and patterns to create visually complex compositions."
   ]
  }
 ],
 "metadata": {
  "language_info": {
   "name": "python"
  }
 },
 "nbformat": 4,
 "nbformat_minor": 2
}
