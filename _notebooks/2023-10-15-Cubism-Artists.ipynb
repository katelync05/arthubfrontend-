{
 "cells": [
  {
   "cell_type": "markdown",
   "metadata": {},
   "source": [
    "# Pablo Picasso \n",
    "\n",
    "### Brief Bio \n",
    "- Pablo Picasso showed early artistic talent, and his father, an art professor, provided him with formal training.\n",
    "- In 1904, Picasso moved to Paris, the epicenter of the art world at the time, and began to immerse himself in the avant-garde art scene. He soon befriended other artists, including Georges Braque, and together they developed the Cubist movement.\n",
    "- Between 1907 and 1914, Picasso and Braque developed Cubism, an art movement that shattered traditional notions of perspective and representation. They deconstructed objects and figures into geometric forms, initiating a significant shift in the art world.\n",
    "- Picasso had several significant relationships with women throughout his life, and his various lovers and muses often appeared in his art. One of his most famous muses was Dora Maar, who is the subject of many of his paintings.\n",
    "\n",
    "### Notable Works\n",
    "- Guernica\n",
    "- Les Demoiselles d'Avignon\n",
    "- The Weeping Woman\n",
    "\n",
    "### Blue and Rose Periods\n",
    "- The Blue Period was named for the predominance of blue tones in his work and a focus on themes of poverty and melancholy. The Rose Period followed, marked by warmer colors and subjects like circus performers and acrobats."
   ]
  }
 ],
 "metadata": {
  "language_info": {
   "name": "python"
  }
 },
 "nbformat": 4,
 "nbformat_minor": 2
}
