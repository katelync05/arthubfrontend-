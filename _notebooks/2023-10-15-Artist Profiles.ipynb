{
 "cells": [
  {
   "cell_type": "markdown",
   "metadata": {},
   "source": [
    "# Van Gogh\n",
    "- Post-Impressionist Period\n",
    "\n",
    "### Brief Bio\n",
    "- Early Life: Van Gogh came from a family with a history of art dealing, but he initially pursued various careers, including working as an art dealer, a teacher, and a preacher. His early life was marked by periods of uncertainty and changes in profession.\n",
    "- Artistic Development: In his late twenties, he decided to become an artist. Van Gogh's artistic style evolved over time, influenced by the works of other artists and his experiences living in various locations, including the Netherlands, Paris, and southern France. He is best known for his use of bold colors, swirling brushwork, and emotional intensity in his paintings.\n",
    "\n",
    "### Notable Works\n",
    "- Starry Night\n",
    "- Sunflowers\n",
    "- The Bedroom\n",
    "- Café Terrace at Night\n",
    "\n",
    "### Mental Health Issues\n",
    "- Throughout his life, van Gogh struggled with mental health issues, including depression and psychosis. He famously cut off his own ear during a breakdown in 1888, and he spent time in psychiatric institutions."
   ]
  },
  {
   "cell_type": "markdown",
   "metadata": {},
   "source": [
    "# Pablo Picasso \n",
    "- Cubism \n",
    "\n",
    "### Brief Bio \n",
    "- Pablo Picasso showed early artistic talent, and his father, an art professor, provided him with formal training.\n",
    "- In 1904, Picasso moved to Paris, the epicenter of the art world at the time, and began to immerse himself in the avant-garde art scene. He soon befriended other artists, including Georges Braque, and together they developed the Cubist movement.\n",
    "- Between 1907 and 1914, Picasso and Braque developed Cubism, an art movement that shattered traditional notions of perspective and representation. They deconstructed objects and figures into geometric forms, initiating a significant shift in the art world.\n",
    "- Picasso had several significant relationships with women throughout his life, and his various lovers and muses often appeared in his art. One of his most famous muses was Dora Maar, who is the subject of many of his paintings.\n",
    "\n",
    "### Notable Works\n",
    "- Guernica\n",
    "- Les Demoiselles d'Avignon\n",
    "- The Weeping Woman\n",
    "\n",
    "### Blue and Rose Periods\n",
    "- The Blue Period was named for the predominance of blue tones in his work and a focus on themes of poverty and melancholy. The Rose Period followed, marked by warmer colors and subjects like circus performers and acrobats."
   ]
  },
  {
   "cell_type": "markdown",
   "metadata": {},
   "source": [
    "# Yoshitomo Nara\n",
    "- Superflat\n",
    "\n",
    "### Brief Bio\n",
    "- Nara was born in 1959 in Hirosaki, Japan. He studied art in Japan and later in Germany. His time in Germany, particularly his exposure to contemporary European art, had a significant impact on his artistic development.\n",
    "- Nara's art is influenced by popular culture, including anime, manga, and Western pop art. His work often explores the juxtaposition of childhood innocence and a sense of isolation or defiance.\n",
    "- Nara's work is characterized by its simplicity and innocence, often featuring wide-eyed, pensive, and sometimes melancholic children or animals. His figures are typically rendered in a bold, graphic style with minimal detail. \n",
    "\n",
    "### Notable Works\n",
    "- Girl with Knife\n",
    "- The Lonesome Puppy\n",
    "- Do Not Disturb!\n",
    "\n",
    "### Additional Facts\n",
    "- In addition to painting, Nara is known for his sculptures, which often depict his iconic characters in three-dimensional form. These sculptures maintain the same sense of simplicity and emotional depth found in his paintings."
   ]
  },
  {
   "cell_type": "markdown",
   "metadata": {},
   "source": [
    "# Francisco Goya\n",
    "- Romanticism/Rococo\n",
    "\n",
    "### Brief Bio\n",
    "- Francisco Goya was born in Fuendetodos, Spain, and he began his artistic career as an apprentice to a local painter. He later moved to Madrid to study at the Royal Academy of Fine Arts, where he honed his skills as a painter and engraver.\n",
    "- Goya rose to prominence as a court painter, creating portraits of Spanish royalty, nobility, and other notable figures. His talent and versatility earned him the position of court painter to Charles III and, later, Charles IV.\n",
    "- In his later years, Goya's health deteriorated, and he became deaf, which had a significant impact on his work. He withdrew from court life and became more critical of the Spanish monarchy, producing works with satirical and critical themes.\n",
    "\n",
    "### Notable Works\n",
    "- The Third of May 1808\n",
    "- Saturn Devouring His Son\n",
    "- The Disasters of War\n",
    "- The Naked Maja\n",
    "\n",
    "### The Black Paintings\n",
    "- Francisco Goya's \"Dark Paintings\" (Spanish: \"Pinturas Negras\") is a series of 14 murals that he created on the walls of his house, known as the Quinta del Sordo, between 1819 and 1823. These paintings are notable for their dark and disturbing themes, and they are considered some of the most enigmatic and psychologically intense works in Goya's oeuvre. These paintings were created during the end of Goya's life at a time where hwas losing both his vision and hearing."
   ]
  },
  {
   "cell_type": "markdown",
   "metadata": {},
   "source": [
    "### "
   ]
  }
 ],
 "metadata": {
  "language_info": {
   "name": "python"
  }
 },
 "nbformat": 4,
 "nbformat_minor": 2
}
